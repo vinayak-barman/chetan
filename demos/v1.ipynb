{
 "cells": [
  {
   "cell_type": "markdown",
   "id": "e230181d",
   "metadata": {},
   "source": [
    "# Setup"
   ]
  },
  {
   "cell_type": "code",
   "execution_count": null,
   "id": "78037a23",
   "metadata": {},
   "outputs": [],
   "source": [
    "from chetan import SessionManager\n",
    "from chetan.runtime import LocalRuntime, RemoteRuntime\n",
    "from chetan.base import ChetanbaseClient\n",
    "\n",
    "# rt = RemoteRuntime(\"https://runtime.snayu.ai\") # Need runtime credentials CHETAN_REMOTE_SECRET\n",
    "rt = LocalRuntime()\n",
    "\n",
    "mgr = SessionManager(\n",
    "    runtime=rt,\n",
    "    base_client=ChetanbaseClient()\n",
    ")"
   ]
  },
  {
   "cell_type": "markdown",
   "id": "2f75b15d",
   "metadata": {},
   "source": [
    "# Primitives\n",
    "## Language Model"
   ]
  },
  {
   "cell_type": "code",
   "execution_count": null,
   "id": "e0074666",
   "metadata": {},
   "outputs": [],
   "source": [
    "mgr.lm[\"default\"] = rt.LanguageModel(provider=\"azure-openai\", model=\"gpt-4o-mini\")"
   ]
  },
  {
   "cell_type": "markdown",
   "id": "1393af07",
   "metadata": {},
   "source": [
    "## Agent architecture\n",
    "### Modules\n",
    "- Server-side module\n",
    "- Client-side module"
   ]
  },
  {
   "cell_type": "code",
   "execution_count": null,
   "id": "1672d575",
   "metadata": {},
   "outputs": [],
   "source": [
    "\n",
    "# ? Load from hub\n",
    "modules = rt.Module.from_hub(\n",
    "    \"snayu/human-in-the-loop\", # Automatically ask for human intervention\n",
    "    \"llamaindex/rag\",\n",
    "    \n",
    "    \"snayu/smriti-memory\",\n",
    "    # \"zep/memory\", # ? or\n",
    "    # \"letta/memory\", # ? or\n",
    "    \n",
    "    \"snayu/tool-recommender\",\n",
    ")\n",
    "\n",
    "# ? Load from Git repo\n",
    "modules.extend(\n",
    "    rt.Module.from_git(\n",
    "        \"https://github.com/Snayu-AI/chetan-hierarchical-planner\",\n",
    "        # ...\n",
    "    )\n",
    ")"
   ]
  },
  {
   "cell_type": "code",
   "execution_count": null,
   "id": "ac211c4e",
   "metadata": {},
   "outputs": [],
   "source": [
    "\n",
    "# ? Load directly\n",
    "# ! Only on LocalRuntime\n",
    "# ! RemoteRuntime with severe latency warning\n",
    "\n",
    "from somelibrary.modules import SomeModule\n",
    "\n",
    "modules.extend(\n",
    "    rt.Module.from_loaded(SomeModule())\n",
    ")"
   ]
  },
  {
   "cell_type": "markdown",
   "id": "e4e44eb3",
   "metadata": {},
   "source": [
    "### Agent Loop"
   ]
  },
  {
   "cell_type": "code",
   "execution_count": null,
   "id": "673b2331",
   "metadata": {},
   "outputs": [],
   "source": [
    "loop = rt.AgentLoop().use(*modules)\n",
    "\n",
    "pfns = rt.process.functions\n",
    "loop.process_sequence = pfns.generate(\n",
    "    reasoning=False, max_tool_calls=-1\n",
    ").execute_tool_calls()\n",
    "\n",
    "mgr.agentloop[\"default\"] = loop"
   ]
  },
  {
   "cell_type": "markdown",
   "id": "d9e983fd",
   "metadata": {},
   "source": [
    "## Tools\n",
    "### MCP"
   ]
  },
  {
   "cell_type": "code",
   "execution_count": null,
   "id": "6a5a7f96",
   "metadata": {},
   "outputs": [],
   "source": [
    "from mcp import StdioServerParameters\n",
    "\n",
    "# ? Load MCP servers as tools\n",
    "mgr.tools.load(\n",
    "    rt.Tool.from_mcp(\n",
    "        {\n",
    "            \"some_local_mcp\": \"/path/to/mcp\", # relative to Runtime\n",
    "            \"some_remote_mcp\": \"https://remote-mcp.somewhere.io\",\n",
    "            \"some_custom_stdio_mcp\": StdioServerParameters(), # relative to Runtime\n",
    "        }\n",
    "    )\n",
    ")"
   ]
  },
  {
   "cell_type": "markdown",
   "id": "75373ed5",
   "metadata": {},
   "source": [
    "### Hub"
   ]
  },
  {
   "cell_type": "code",
   "execution_count": null,
   "id": "a1205dcd",
   "metadata": {},
   "outputs": [],
   "source": [
    "\n",
    "# ? Load from hub\n",
    "mgr.tools.load(\n",
    "    rt.Tool.from_hub(\n",
    "        \"tavily/tavily-search\",\n",
    "        \"github/github-api\",\n",
    "        \"microsoft/azure-portal-api\",\n",
    "        \"google/youtube-videos-api\",\n",
    "    )\n",
    ")"
   ]
  },
  {
   "cell_type": "markdown",
   "id": "b77a931a",
   "metadata": {},
   "source": [
    "### Local"
   ]
  },
  {
   "cell_type": "code",
   "execution_count": null,
   "id": "ea9ab717",
   "metadata": {},
   "outputs": [],
   "source": [
    "from somewhere.tools import SomeTool\n",
    "\n",
    "# ? Load directly\n",
    "mgr.tools.load(\n",
    "    rt.Tool.from_local(\n",
    "        {\n",
    "            \"some_tool\": SomeTool(),\n",
    "            # ...\n",
    "        }\n",
    "    )\n",
    ")"
   ]
  },
  {
   "cell_type": "markdown",
   "id": "d6a8b26a",
   "metadata": {},
   "source": [
    "### Tool registry"
   ]
  },
  {
   "cell_type": "code",
   "execution_count": null,
   "id": "34d7e41b",
   "metadata": {},
   "outputs": [],
   "source": [
    "\n",
    "# * Instantiate all tools in root namespace\n",
    "for tool in mgr.tools.items:\n",
    "    mgr.tools.register(\"\", tool)"
   ]
  },
  {
   "cell_type": "markdown",
   "id": "3f2d84e3",
   "metadata": {},
   "source": [
    "# Entity\n",
    "## Manifesto"
   ]
  },
  {
   "cell_type": "code",
   "execution_count": null,
   "id": "1f77cd64",
   "metadata": {},
   "outputs": [],
   "source": [
    "from chetan.manifesto import Manifesto\n",
    "from chetan.manifesto.agentloop import AutoAgentLoop, tool_approval_condition\n",
    "\n",
    "\n",
    "class SomeManifesto(Manifesto):\n",
    "    agentloop = AutoAgentLoop(\n",
    "        auto_tool_approval=tool_approval_condition.max_severity(\"medium\").verbs(\n",
    "            \"read\", \"log\"\n",
    "        )\n",
    "    )\n",
    "    pass"
   ]
  }
 ],
 "metadata": {
  "language_info": {
   "name": "python"
  }
 },
 "nbformat": 4,
 "nbformat_minor": 5
}
